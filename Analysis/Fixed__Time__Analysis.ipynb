{
 "cells": [
  {
   "cell_type": "code",
   "execution_count": null,
   "metadata": {},
   "outputs": [],
   "source": [
    "import numpy as np\n",
    "import pandas as pd\n",
    "import os\n",
    "import sys\n",
    "import pickle5 as pickle\n",
    "import Utils\n",
    "import seaborn as sns\n",
    "import matplotlib.pyplot as plt\n",
    "plt.style.use ('ggplot')\n",
    "\n",
    "settings = pd.read_csv ('Settings.csv', index_col = 0)\n",
    "settings_10 = pd.read_csv ('Settings__10D.csv', index_col = 0)"
   ]
  },
  {
   "cell_type": "markdown",
   "metadata": {},
   "source": [
    "## Load Results"
   ]
  },
  {
   "cell_type": "code",
   "execution_count": 2,
   "metadata": {},
   "outputs": [],
   "source": [
    "# specify the pathsfor loading results\n",
    "\n",
    "mmr_2D_path = \"Results\\\\MMR\\\\2D\\\\\"\n",
    "mmr_5D_path = \"Results\\\\MMR\\\\5D\\\\\"\n",
    "mmr_10D_path = \"Results\\\\MMR\\\\10D\\\\\"\n",
    "\n",
    "\n",
    "mmrr_2D_path = \"Results\\\\MMRR\\\\2D\\\\\"\n",
    "mmrr_5D_path = \"Results\\\\MMRR\\\\5D\\\\\"\n",
    "mmrr_10D_path = \"Results\\\\MMRR\\\\10D\\\\\"\n",
    "\n",
    "ebr_2D_path = \"Results\\\\EBR\\\\2D\\\\\"\n",
    "ebr_5D_path = \"Results\\\\EBR\\\\5D\\\\\"\n",
    "ebr_10D_path = \"Results\\\\EBR\\\\10D\\\\\"\n",
    "\n",
    "dbr_2D_path = \"Results\\\\DBR\\\\2D\\\\\"\n",
    "dbr_5D_path = \"Results\\\\DBR\\\\5D\\\\\"\n",
    "dbr_10D_path = \"Results\\\\DBR\\\\10D\\\\\"\n",
    "\n",
    "cr_2D_path = \"Results\\\\CR\\\\2D\\\\\"\n",
    "cr_5D_path = \"Results\\\\CR\\\\5D\\\\\"\n",
    "cr_10D_path = \"Results\\\\CR\\\\10D\\\\\"\n",
    "\n",
    "mmr_2D = Utils.__load__results__ (mmr_2D_path)\n",
    "mmr_5D = Utils.__load__results__ (mmr_5D_path)\n",
    "mmr_10D = Utils.__load__results__ (mmr_10D_path)\n",
    "\n",
    "mmrr_2D = Utils.__load__results__ (mmrr_2D_path)\n",
    "mmrr_5D = Utils.__load__results__ (mmrr_5D_path)\n",
    "mmrr_10D = Utils.__load__results__ (mmrr_10D_path)\n",
    "\n",
    "\n",
    "ebr_2D = Utils.__load__results__ (ebr_2D_path)\n",
    "ebr_5D = Utils.__load__results__ (ebr_5D_path)\n",
    "ebr_10D = Utils.__load__results__ (ebr_10D_path)\n",
    "\n",
    "dbr_2D = Utils.__load__results__ (dbr_2D_path)\n",
    "dbr_5D = Utils.__load__results__ (dbr_5D_path)\n",
    "dbr_10D = Utils.__load__results__ (dbr_10D_path)\n",
    "\n",
    "cr_2D = Utils.__load__results__ (cr_2D_path)\n",
    "cr_5D = Utils.__load__results__ (cr_5D_path)\n",
    "cr_10D = Utils.__load__results__ (cr_10D_path)\n",
    "\n",
    "del mmr_2D_path\n",
    "del mmr_5D_path\n",
    "del mmr_10D_path\n",
    "del mmrr_2D_path\n",
    "del mmrr_5D_path\n",
    "del mmrr_10D_path\n",
    "del ebr_2D_path\n",
    "del ebr_5D_path\n",
    "del ebr_10D_path\n",
    "del dbr_2D_path\n",
    "del dbr_5D_path\n",
    "del dbr_10D_path\n",
    "del cr_2D_path\n",
    "del cr_5D_path\n",
    "del cr_10D_path\n",
    "\n",
    "mmr_2D = [Utils.__retrieve__case__data__(str(case), mmr_2D) for case in range(1,21)]\n",
    "mmr_5D = [Utils.__retrieve__case__data__(str(case), mmr_5D) for case in range(21,41)]\n",
    "mmr_10D = [Utils.__retrieve__case__data__(str(case), mmr_10D) for case in range(201,221)]\n",
    "\n",
    "\n",
    "mmrr_2D = [Utils.__retrieve__case__data__(str(case), mmrr_2D) for case in range(41,61)]\n",
    "mmrr_5D = [Utils.__retrieve__case__data__(str(case), mmrr_5D) for case in range(61,81)]\n",
    "mmrr_10D = [Utils.__retrieve__case__data__(str(case), mmrr_10D) for case in range(221,241)]\n",
    "\n",
    "ebr_2D = [Utils.__retrieve__case__data__(str(case), ebr_2D) for case in range(81,101)]\n",
    "ebr_5D = [Utils.__retrieve__case__data__(str(case), ebr_5D) for case in range(101,121)]\n",
    "ebr_10D = [Utils.__retrieve__case__data__(str(case), ebr_10D) for case in range(241,261)]\n",
    "\n",
    "dbr_2D = [Utils.__retrieve__case__data__(str(case), dbr_2D) for case in range(121,141)]\n",
    "dbr_5D = [Utils.__retrieve__case__data__(str(case), dbr_5D) for case in range(141,161)]\n",
    "dbr_10D = [Utils.__retrieve__case__data__(str(case), dbr_10D) for case in range(261,281)]\n",
    "\n",
    "cr_2D = [Utils.__retrieve__case__data__(str(case), cr_2D) for case in range (161, 181)]\n",
    "cr_5D = [Utils.__retrieve__case__data__(str(case), cr_5D) for case in range (181, 201)]\n",
    "cr_10D = [Utils.__retrieve__case__data__(str(case), cr_10D) for case in range (281, 301)]"
   ]
  },
  {
   "cell_type": "markdown",
   "metadata": {},
   "source": [
    "## Load Ground Truth"
   ]
  },
  {
   "cell_type": "code",
   "execution_count": 3,
   "metadata": {},
   "outputs": [],
   "source": [
    "GT_2D = \"Results\\\\GT\\\\Results\\\\2D\\\\\"\n",
    "GT_5D = \"Results\\\\GT\\\\Results\\\\5D\\\\\"\n",
    "GT_10D = \"Results\\\\GT\\\\Results\\\\10 D\\\\Results\\\\\"\n",
    "\n",
    "GT_2D__mmr = Utils.__load__gt__ (GT_2D, settings, \"mini-max\", 2)\n",
    "GT_5D__mmr = Utils.__load__gt__ (GT_5D, settings, \"mini-max\", 5)\n",
    "GT_10D__mmr = Utils.__load__gt__ (GT_10D, settings_10, \"mini-max\", 10)\n",
    "\n",
    "GT_2D__mmrr = Utils.__load__gt__ (GT_2D, settings, \"mini-max-regret\", 2)\n",
    "GT_5D__mmrr = Utils.__load__gt__ (GT_5D, settings, \"mini-max-regret\", 5)\n",
    "GT_10D__mmrr = Utils.__load__gt__ (GT_10D, settings_10, \"mini-max-regret\", 10)\n",
    "\n",
    "GT_2D__ebr = Utils.__load__gt__ (GT_2D, settings, \"expectation\", 2)\n",
    "GT_5D__ebr = Utils.__load__gt__ (GT_5D, settings, \"expectation\", 5)\n",
    "GT_10D__ebr = Utils.__load__gt__ (GT_10D, settings_10, \"expectation\", 10)\n",
    "\n",
    "GT_2D__dbr = Utils.__load__gt__ (GT_2D, settings, \"dispersion\", 2)\n",
    "GT_5D__dbr = Utils.__load__gt__ (GT_5D, settings, \"dispersion\", 5)\n",
    "GT_10D__dbr = Utils.__load__gt__ (GT_10D, settings_10, \"dispersion\", 10)\n",
    "\n",
    "GT_2D__cr = Utils.__load__gt__ (GT_2D, settings, \"composite\", 2)\n",
    "GT_5D__cr = Utils.__load__gt__ (GT_5D, settings, \"composite\", 5)\n",
    "GT_10D__cr = Utils.__load__gt__ (GT_10D, settings_10, \"composite\", 10)\n",
    "\n",
    "\n",
    "del GT_2D\n",
    "del GT_5D\n",
    "del GT_10D"
   ]
  },
  {
   "cell_type": "markdown",
   "metadata": {},
   "source": [
    "## Compute Quality of the Solution"
   ]
  },
  {
   "cell_type": "code",
   "execution_count": 4,
   "metadata": {},
   "outputs": [
    {
     "name": "stdout",
     "output_type": "stream",
     "text": [
      "importing numexpr None 0\n"
     ]
    }
   ],
   "source": [
    "opt_data_mmr_2D = [Utils.__compute__quality__ (case, GT_2D__mmr, mmr_2D) for case in range(1,21)]\n",
    "opt_data_mmr_5D = [Utils.__compute__quality__ (case, GT_5D__mmr, mmr_5D) for case in range(21,41)]\n",
    "opt_data_mmr_10D = [Utils.__compute__quality__ (case, GT_10D__mmr, mmr_10D) for case in range(201,221)]\n",
    "\n",
    "opt_data_mmrr_2D = [Utils.__compute__quality__ (case, GT_2D__mmrr, mmrr_2D) for case in range(41,61)]\n",
    "opt_data_mmrr_5D = [Utils.__compute__quality__ (case, GT_5D__mmrr, mmrr_5D) for case in range(61,81)]\n",
    "opt_data_mmrr_10D = [Utils.__compute__quality__ (case, GT_10D__mmrr, mmrr_10D) for case in range(221,241)]\n",
    "\n",
    "opt_data_ebr_2D = [Utils.__compute__quality__ (case, GT_2D__ebr, ebr_2D) for case in range(81,101)]\n",
    "opt_data_ebr_5D = [Utils.__compute__quality__ (case, GT_5D__ebr, ebr_5D) for case in range(101,121)]\n",
    "opt_data_ebr_10D = [Utils.__compute__quality__ (case, GT_10D__ebr, ebr_10D) for case in range(241,261)]\n",
    "\n",
    "opt_data_dbr_2D = [Utils.__compute__quality__ (case, GT_2D__dbr, dbr_2D) for case in range(121,141)]\n",
    "opt_data_dbr_5D = [Utils.__compute__quality__ (case, GT_5D__dbr, dbr_5D) for case in range(141,161)]\n",
    "opt_data_dbr_10D = [Utils.__compute__quality__ (case, GT_10D__dbr, dbr_10D) for case in range(261,281)]\n",
    "\n",
    "opt_data_cr_2D = [Utils.__compute__quality__ (case, GT_2D__cr, cr_2D) for case in range(161,181)]\n",
    "opt_data_cr_5D = [Utils.__compute__quality__ (case, GT_5D__cr, cr_5D) for case in range(181, 201)]\n",
    "opt_data_cr_10D = [Utils.__compute__quality__ (case, GT_10D__cr, cr_10D) for case in range(281,301)]"
   ]
  },
  {
   "cell_type": "markdown",
   "metadata": {},
   "source": [
    "## Fix Time"
   ]
  },
  {
   "cell_type": "code",
   "execution_count": 5,
   "metadata": {},
   "outputs": [],
   "source": [
    "mmr_2D_max = [np.mean(np.mean(mmr_2D[i][1])) for i in range(len(mmr_2D))]\n",
    "mmrr_2D_max = [np.mean(np.mean(mmrr_2D[i][1])) for i in range(len(mmrr_2D))]\n",
    "ebr_2D_max = [np.mean(np.mean(ebr_2D[i][1])) for i in range(len(ebr_2D))]\n",
    "dbr_2D_max = [np.mean(np.mean(dbr_2D[i][1])) for i in range(len(dbr_2D))]\n",
    "cr_2D_max = [np.mean(np.mean(cr_2D[i][1])) for i in range(len(cr_2D))]\n",
    "\n",
    "mmr_5D_max = [np.mean(np.mean(mmr_5D[i][1])) for i in range(len(mmr_5D))]\n",
    "mmrr_5D_max = [np.mean(np.mean(mmrr_5D[i][1])) for i in range(len(mmrr_5D))]\n",
    "ebr_5D_max = [np.mean(np.mean(ebr_5D[i][1])) for i in range(len(ebr_5D))]\n",
    "dbr_5D_max = [np.mean(np.mean(dbr_5D[i][1])) for i in range(len(dbr_5D))]\n",
    "cr_5D_max = [np.mean(np.mean(cr_5D[i][1])) for i in range(len(cr_5D))]\n",
    "\n",
    "mmr_10D_max = [np.mean(np.mean(mmr_10D[i][1])) for i in range(len(mmr_10D))]\n",
    "mmrr_10D_max = [np.mean(np.mean(mmrr_10D[i][1])) for i in range(len(mmrr_10D))]\n",
    "ebr_10D_max = [np.mean(np.mean(ebr_10D[i][1])) for i in range(len(ebr_10D))]\n",
    "dbr_10D_max = [np.mean(np.mean(dbr_10D[i][1])) for i in range(len(dbr_10D))]\n",
    "cr_10D_max = [np.mean(np.mean(cr_10D[i][1])) for i in range(len(cr_10D))]\n",
    "\n",
    "#print ('Avg. Cpu time for 2D cases is:' + str (np.mean(np.mean(pd.DataFrame ([mmr_2D_max,mmrr_2D_max,ebr_2D_max]).T))))\n",
    "#print ('Avg. Cpu time for 5D cases is:' + str (np.mean(np.mean(pd.DataFrame ([mmr_5D_max,mmrr_5D_max,ebr_5D_max]).T))))\n",
    "#print ('Avg. Cpu time for 10D cases is:' + str (np.mean(np.mean(pd.DataFrame ([mmr_10D_max,mmrr_10D_max,ebr_10D_max]).T))))\n",
    "\n",
    "D1, D2, D3 = 2,5,10\n",
    "time_2D = np.sort (np.random.uniform (D1 * 5, 464, 50))\n",
    "time_5D = np.sort (np.random.uniform (D2 * 5, 9240, 50))\n",
    "time_10D = np.sort (np.random.uniform (D3 * 5, 55184, 50))"
   ]
  },
  {
   "cell_type": "markdown",
   "metadata": {},
   "source": [
    "## Perform Analysis"
   ]
  },
  {
   "cell_type": "code",
   "execution_count": 6,
   "metadata": {},
   "outputs": [],
   "source": [
    "indices = [Utils.__data__indices ([time_2D [i], time_5D [i], \n",
    "                        time_10D [i]], [mmr_2D, mmr_5D, mmr_10D],\n",
    "                       [mmrr_2D, mmrr_5D, mmrr_10D],\n",
    "                       [ebr_2D, ebr_5D, ebr_10D],\n",
    "                        [dbr_2D, dbr_5D, dbr_10D],\n",
    "                        [cr_2D, cr_5D, cr_10D]) for i in range (len (time_2D))]\n",
    "\n",
    "data = []\n",
    "for i in range (len (indices)):\n",
    "    \n",
    "    time_ind_mmr_2D, time_ind_mmr_5D, time_ind_mmr_10D, time_ind_mmrr_2D, time_ind_mmrr_5D, time_ind_mmrr_10D, time_ind_ebr_2D, time_ind_ebr_5D, time_ind_ebr_10D, time_ind_dbr_2D, time_ind_dbr_5D, time_ind_dbr_10D, time_ind_cr_2D, time_ind_cr_5D, time_ind_cr_10D = indices [i]\n",
    "    \n",
    "    mmr = pd.DataFrame ([Utils.__extract__function__information (time_ind_mmr_2D, opt_data_mmr_2D).values.reshape (300,),\n",
    "               Utils.__extract__function__information (time_ind_mmr_5D, opt_data_mmr_5D).values.reshape (300,),\n",
    "               Utils.__extract__function__information (time_ind_mmr_10D, opt_data_mmr_10D).values.reshape (300,)]).values.reshape(900,)\n",
    "    \n",
    "    mmrr = pd.DataFrame ([Utils.__extract__function__information (time_ind_mmrr_2D, opt_data_mmrr_2D).values.reshape (300,),\n",
    "               Utils.__extract__function__information (time_ind_mmrr_5D, opt_data_mmrr_5D).values.reshape (300,),\n",
    "               Utils.__extract__function__information (time_ind_mmrr_10D, opt_data_mmrr_10D).values.reshape (300,)]).values.reshape(900,)\n",
    "    \n",
    "    ebr = pd.DataFrame ([Utils.__extract__function__information (time_ind_ebr_2D, opt_data_ebr_2D).values.reshape (300,),\n",
    "               Utils.__extract__function__information (time_ind_ebr_5D, opt_data_ebr_5D).values.reshape (300,),\n",
    "               Utils.__extract__function__information (time_ind_ebr_10D, opt_data_ebr_10D).values.reshape (300,)]).values.reshape(900,)\n",
    "    \n",
    "    dbr = pd.DataFrame ([Utils.__extract__function__information (time_ind_dbr_2D, opt_data_dbr_2D).values.reshape (300,),\n",
    "               Utils.__extract__function__information (time_ind_dbr_5D, opt_data_dbr_5D).values.reshape (300,),\n",
    "               Utils.__extract__function__information (time_ind_dbr_10D, opt_data_dbr_10D).values.reshape (300,)]).values.reshape(900,)\n",
    "    \n",
    "    \n",
    "    cr = pd.DataFrame ([Utils.__extract__function__information (time_ind_cr_2D, opt_data_cr_2D).values.reshape (300,),\n",
    "               Utils.__extract__function__information (time_ind_cr_5D, opt_data_cr_5D).values.reshape (300,),\n",
    "               Utils.__extract__function__information (time_ind_cr_10D, opt_data_cr_10D).values.reshape (300,)]).values.reshape(900,)\n",
    "    \n",
    "    \n",
    "    data.append (pd.DataFrame ([mmr, mmrr, ebr, dbr, cr]).values.T)\n",
    "pd.DataFrame (np.mean(data, axis = 0), columns = ['MMR', 'MMRR', 'EBR', 'DBR', 'CR']).to_csv ('Fixed__Time.csv')"
   ]
  }
 ],
 "metadata": {
  "kernelspec": {
   "display_name": "Python 3",
   "language": "python",
   "name": "python3"
  },
  "language_info": {
   "codemirror_mode": {
    "name": "ipython",
    "version": 3
   },
   "file_extension": ".py",
   "mimetype": "text/x-python",
   "name": "python",
   "nbconvert_exporter": "python",
   "pygments_lexer": "ipython3",
   "version": "3.7.0"
  }
 },
 "nbformat": 4,
 "nbformat_minor": 2
}
